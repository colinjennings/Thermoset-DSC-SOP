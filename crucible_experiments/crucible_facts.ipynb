{
 "cells": [
  {
   "cell_type": "markdown",
   "id": "d6fd4303-a65f-4f9d-a8e6-b0ba2e333953",
   "metadata": {},
   "source": [
    "### The Crucible Weighing Problem\n",
    "\n",
    "DSC and TGA uses an extremely precise balance to mesure the mass of the sample as it changes over the course of an experiment. The analysis software calculates heat flow into the sample with respect to mass (displayed as mW/g), which is very useful when comparing samples of different masses.\n",
    "\n",
    "The sample robot and and carousel on the TGA/DSC 3+ allow you to queue up to 34 samples and run them sequentially. It also allows you to automatically weigh your crucibles on the extremely accurate balance before you put your samples in. \n",
    "\n",
    "However, there is one small problem -- the lid. If the lid has not yet been sealed to the top of crucible, the robot cannot pick the lid and the crucible up for weigh in. This is unfortunate, as it means we cannot know how much the lid and crucible weigh together, and thus we cannot weight the sample when it goes into the machine.\n",
    "\n",
    "Current lab procedure is as such: place a lid and a crucible on a benchtop scale and tare it. Weigh out the phenolic sample, then input this into the software. I find this insuffcient for two reasons:\n",
    "1) You lose precision by using a less-sensitive balance.\n",
    "2) Since the samples lose some mass to volatile evaporation while sitting out at room temperature, the input mass may be inaccurate by the time the sample is run.\n",
    "\n",
    "My procedure has been as such: Weigh the crucibles using the sample robot weigh-in. Mass each lid on a bench top balance, then prepare your sample. Run the experiment. Then, with a bit of math, you can adjust the heat flow curve to cancel out the extra mass from the lid."
   ]
  },
  {
   "cell_type": "markdown",
   "id": "36d3473c-8710-4c6e-8326-4233fa4a2968",
   "metadata": {},
   "source": [
    "### First Experiment: Empty Crucibles and Lids\n",
    "\n",
    "I wanted to calculate the average mass and standard deviation of some empty crucibles and lids. I loaded 10 empty crucibles into the machine and got their masses. I then added lids, sealed them, and took their masses. The results of this are in the CSV file:"
   ]
  },
  {
   "cell_type": "code",
   "execution_count": 12,
   "id": "4ac17468-057c-4d36-b67e-c199ab090b6c",
   "metadata": {},
   "outputs": [
    {
     "data": {
      "text/html": [
       "<div>\n",
       "<style scoped>\n",
       "    .dataframe tbody tr th:only-of-type {\n",
       "        vertical-align: middle;\n",
       "    }\n",
       "\n",
       "    .dataframe tbody tr th {\n",
       "        vertical-align: top;\n",
       "    }\n",
       "\n",
       "    .dataframe thead th {\n",
       "        text-align: right;\n",
       "    }\n",
       "</style>\n",
       "<table border=\"1\" class=\"dataframe\">\n",
       "  <thead>\n",
       "    <tr style=\"text-align: right;\">\n",
       "      <th></th>\n",
       "      <th>Pan Weight (mg)</th>\n",
       "      <th>Lidded Weight (mg)</th>\n",
       "      <th>lid_weight</th>\n",
       "    </tr>\n",
       "  </thead>\n",
       "  <tbody>\n",
       "    <tr>\n",
       "      <th>0</th>\n",
       "      <td>62.291</td>\n",
       "      <td>80.021</td>\n",
       "      <td>17.730</td>\n",
       "    </tr>\n",
       "    <tr>\n",
       "      <th>1</th>\n",
       "      <td>62.227</td>\n",
       "      <td>79.691</td>\n",
       "      <td>17.464</td>\n",
       "    </tr>\n",
       "    <tr>\n",
       "      <th>2</th>\n",
       "      <td>62.947</td>\n",
       "      <td>79.696</td>\n",
       "      <td>16.749</td>\n",
       "    </tr>\n",
       "    <tr>\n",
       "      <th>3</th>\n",
       "      <td>62.741</td>\n",
       "      <td>80.327</td>\n",
       "      <td>17.586</td>\n",
       "    </tr>\n",
       "    <tr>\n",
       "      <th>4</th>\n",
       "      <td>62.461</td>\n",
       "      <td>80.277</td>\n",
       "      <td>17.816</td>\n",
       "    </tr>\n",
       "    <tr>\n",
       "      <th>5</th>\n",
       "      <td>62.443</td>\n",
       "      <td>79.956</td>\n",
       "      <td>17.513</td>\n",
       "    </tr>\n",
       "    <tr>\n",
       "      <th>6</th>\n",
       "      <td>62.350</td>\n",
       "      <td>79.097</td>\n",
       "      <td>16.747</td>\n",
       "    </tr>\n",
       "    <tr>\n",
       "      <th>7</th>\n",
       "      <td>62.881</td>\n",
       "      <td>80.282</td>\n",
       "      <td>17.401</td>\n",
       "    </tr>\n",
       "    <tr>\n",
       "      <th>8</th>\n",
       "      <td>62.635</td>\n",
       "      <td>80.215</td>\n",
       "      <td>17.580</td>\n",
       "    </tr>\n",
       "    <tr>\n",
       "      <th>9</th>\n",
       "      <td>62.525</td>\n",
       "      <td>79.555</td>\n",
       "      <td>17.030</td>\n",
       "    </tr>\n",
       "  </tbody>\n",
       "</table>\n",
       "</div>"
      ],
      "text/plain": [
       "   Pan Weight (mg)  Lidded Weight (mg)  lid_weight\n",
       "0           62.291              80.021      17.730\n",
       "1           62.227              79.691      17.464\n",
       "2           62.947              79.696      16.749\n",
       "3           62.741              80.327      17.586\n",
       "4           62.461              80.277      17.816\n",
       "5           62.443              79.956      17.513\n",
       "6           62.350              79.097      16.747\n",
       "7           62.881              80.282      17.401\n",
       "8           62.635              80.215      17.580\n",
       "9           62.525              79.555      17.030"
      ]
     },
     "execution_count": 12,
     "metadata": {},
     "output_type": "execute_result"
    }
   ],
   "source": [
    "import pandas as pd\n",
    "\n",
    "df = pd.read_csv('crucible_mass.csv')\n",
    "df['lid_weight'] = df['Lidded Weight (mg)'] - df['Pan Weight (mg)']\n",
    "df.head(10)"
   ]
  },
  {
   "cell_type": "code",
   "execution_count": 25,
   "id": "3d3ea84c-f9eb-4b1e-a6e4-f7fa5dc66a58",
   "metadata": {},
   "outputs": [
    {
     "name": "stdout",
     "output_type": "stream",
     "text": [
      "Mean pan weight: 62.55 mg, Std: 0.245 mg\n",
      "Mean lid weight: 17.362 mg, Std: 0.386 mg\n"
     ]
    }
   ],
   "source": [
    "print(f\"Mean pan weight: {df['Pan Weight (mg)'].mean().round(3)} mg, Std: {df['Pan Weight (mg)'].std().round(3)} mg\")\n",
    "print(f\"Mean lid weight: {df['lid_weight'].mean().round(3)} mg, Std: {df['lid_weight'].std().round(3)} mg\")"
   ]
  }
 ],
 "metadata": {
  "kernelspec": {
   "display_name": "Python 3 (ipykernel)",
   "language": "python",
   "name": "python3"
  },
  "language_info": {
   "codemirror_mode": {
    "name": "ipython",
    "version": 3
   },
   "file_extension": ".py",
   "mimetype": "text/x-python",
   "name": "python",
   "nbconvert_exporter": "python",
   "pygments_lexer": "ipython3",
   "version": "3.12.3"
  }
 },
 "nbformat": 4,
 "nbformat_minor": 5
}
